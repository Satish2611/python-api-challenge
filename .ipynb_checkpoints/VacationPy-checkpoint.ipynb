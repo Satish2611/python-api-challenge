{
 "cells": [
  {
   "cell_type": "markdown",
   "metadata": {},
   "source": [
    "# VacationPy\n",
    "----\n",
    "\n",
    "#### Note\n",
    "* Instructions have been included for each segment. You do not have to follow them exactly, but they are included to help you think through the steps."
   ]
  },
  {
   "cell_type": "code",
   "execution_count": 2,
   "metadata": {},
   "outputs": [],
   "source": [
    "# Dependencies and Setup\n",
    "import matplotlib.pyplot as plt\n",
    "import pandas as pd\n",
    "import numpy as np\n",
    "import requests\n",
    "import gmaps\n",
    "import os\n",
    "import time\n",
    "# Import API key\n",
    "from api_keys import g_key\n"
   ]
  },
  {
   "cell_type": "markdown",
   "metadata": {},
   "source": [
    "### Store Part I results into DataFrame\n",
    "* Load the csv exported in Part I to a DataFrame"
   ]
  },
  {
   "cell_type": "code",
   "execution_count": 3,
   "metadata": {},
   "outputs": [
    {
     "data": {
      "text/html": [
       "<div>\n",
       "<style scoped>\n",
       "    .dataframe tbody tr th:only-of-type {\n",
       "        vertical-align: middle;\n",
       "    }\n",
       "\n",
       "    .dataframe tbody tr th {\n",
       "        vertical-align: top;\n",
       "    }\n",
       "\n",
       "    .dataframe thead th {\n",
       "        text-align: right;\n",
       "    }\n",
       "</style>\n",
       "<table border=\"1\" class=\"dataframe\">\n",
       "  <thead>\n",
       "    <tr style=\"text-align: right;\">\n",
       "      <th></th>\n",
       "      <th>Unnamed: 0</th>\n",
       "      <th>City</th>\n",
       "      <th>Cloudiness</th>\n",
       "      <th>Country</th>\n",
       "      <th>Date</th>\n",
       "      <th>Humidity</th>\n",
       "      <th>Lat</th>\n",
       "      <th>Lng</th>\n",
       "      <th>Max Temp</th>\n",
       "      <th>Wind Speed</th>\n",
       "    </tr>\n",
       "  </thead>\n",
       "  <tbody>\n",
       "    <tr>\n",
       "      <th>0</th>\n",
       "      <td>0</td>\n",
       "      <td>Okhotsk</td>\n",
       "      <td>100</td>\n",
       "      <td>RU</td>\n",
       "      <td>1580009194</td>\n",
       "      <td>72</td>\n",
       "      <td>59.38</td>\n",
       "      <td>143.30</td>\n",
       "      <td>-11.83</td>\n",
       "      <td>15.93</td>\n",
       "    </tr>\n",
       "    <tr>\n",
       "      <th>1</th>\n",
       "      <td>1</td>\n",
       "      <td>Xining</td>\n",
       "      <td>0</td>\n",
       "      <td>CN</td>\n",
       "      <td>1580009502</td>\n",
       "      <td>45</td>\n",
       "      <td>36.62</td>\n",
       "      <td>101.77</td>\n",
       "      <td>18.23</td>\n",
       "      <td>5.37</td>\n",
       "    </tr>\n",
       "    <tr>\n",
       "      <th>2</th>\n",
       "      <td>2</td>\n",
       "      <td>Aksay</td>\n",
       "      <td>100</td>\n",
       "      <td>RU</td>\n",
       "      <td>1580009503</td>\n",
       "      <td>80</td>\n",
       "      <td>47.26</td>\n",
       "      <td>39.87</td>\n",
       "      <td>35.60</td>\n",
       "      <td>11.18</td>\n",
       "    </tr>\n",
       "    <tr>\n",
       "      <th>3</th>\n",
       "      <td>3</td>\n",
       "      <td>Ust'-Karsk</td>\n",
       "      <td>0</td>\n",
       "      <td>RU</td>\n",
       "      <td>1580009504</td>\n",
       "      <td>78</td>\n",
       "      <td>52.70</td>\n",
       "      <td>118.81</td>\n",
       "      <td>8.02</td>\n",
       "      <td>1.79</td>\n",
       "    </tr>\n",
       "    <tr>\n",
       "      <th>4</th>\n",
       "      <td>4</td>\n",
       "      <td>Bluff</td>\n",
       "      <td>57</td>\n",
       "      <td>NZ</td>\n",
       "      <td>1580009157</td>\n",
       "      <td>52</td>\n",
       "      <td>-46.60</td>\n",
       "      <td>168.33</td>\n",
       "      <td>66.49</td>\n",
       "      <td>8.52</td>\n",
       "    </tr>\n",
       "  </tbody>\n",
       "</table>\n",
       "</div>"
      ],
      "text/plain": [
       "   Unnamed: 0        City  Cloudiness Country        Date  Humidity    Lat  \\\n",
       "0           0     Okhotsk         100      RU  1580009194        72  59.38   \n",
       "1           1      Xining           0      CN  1580009502        45  36.62   \n",
       "2           2       Aksay         100      RU  1580009503        80  47.26   \n",
       "3           3  Ust'-Karsk           0      RU  1580009504        78  52.70   \n",
       "4           4       Bluff          57      NZ  1580009157        52 -46.60   \n",
       "\n",
       "      Lng  Max Temp  Wind Speed  \n",
       "0  143.30    -11.83       15.93  \n",
       "1  101.77     18.23        5.37  \n",
       "2   39.87     35.60       11.18  \n",
       "3  118.81      8.02        1.79  \n",
       "4  168.33     66.49        8.52  "
      ]
     },
     "execution_count": 3,
     "metadata": {},
     "output_type": "execute_result"
    }
   ],
   "source": [
    "#Reading csv file\n",
    "City_weather=pd.read_csv(\"output_data/cities.csv\")\n",
    "City_weather.head()"
   ]
  },
  {
   "cell_type": "markdown",
   "metadata": {},
   "source": [
    "### Humidity Heatmap\n",
    "* Configure gmaps.\n",
    "* Use the Lat and Lng as locations and Humidity as the weight.\n",
    "* Add Heatmap layer to map."
   ]
  },
  {
   "cell_type": "code",
   "execution_count": 4,
   "metadata": {},
   "outputs": [
    {
     "data": {
      "application/vnd.jupyter.widget-view+json": {
       "model_id": "ff50032255c64055905fbda991cbe451",
       "version_major": 2,
       "version_minor": 0
      },
      "text/plain": [
       "Figure(layout=FigureLayout(height='420px'))"
      ]
     },
     "metadata": {},
     "output_type": "display_data"
    }
   ],
   "source": [
    "#Configuring gmpas\n",
    "gmaps.configure(api_key=g_key)\n",
    "\n",
    "fig = gmaps.figure()\n",
    "\n",
    "#getting locations\n",
    "locations=City_weather[['Lat','Lng']].astype(float)\n",
    "\n",
    "#Getting Humidity data\n",
    "Humidity=City_weather['Humidity'].astype(float)\n",
    "#Creating Heat Map\n",
    "heat_layer = gmaps.heatmap_layer(locations, weights=Humidity, \n",
    "                                 dissipating=False, max_intensity=100,\n",
    "                                 point_radius = 1)\n",
    "#Adding heat maps\n",
    "fig.add_layer(heat_layer)\n",
    "fig"
   ]
  },
  {
   "cell_type": "markdown",
   "metadata": {},
   "source": [
    "### Create new DataFrame fitting weather criteria\n",
    "* Narrow down the cities to fit weather conditions.\n",
    "* Drop any rows will null values."
   ]
  },
  {
   "cell_type": "code",
   "execution_count": 6,
   "metadata": {
    "scrolled": true
   },
   "outputs": [
    {
     "data": {
      "text/html": [
       "<div>\n",
       "<style scoped>\n",
       "    .dataframe tbody tr th:only-of-type {\n",
       "        vertical-align: middle;\n",
       "    }\n",
       "\n",
       "    .dataframe tbody tr th {\n",
       "        vertical-align: top;\n",
       "    }\n",
       "\n",
       "    .dataframe thead th {\n",
       "        text-align: right;\n",
       "    }\n",
       "</style>\n",
       "<table border=\"1\" class=\"dataframe\">\n",
       "  <thead>\n",
       "    <tr style=\"text-align: right;\">\n",
       "      <th></th>\n",
       "      <th>Unnamed: 0</th>\n",
       "      <th>City</th>\n",
       "      <th>Cloudiness</th>\n",
       "      <th>Country</th>\n",
       "      <th>Date</th>\n",
       "      <th>Humidity</th>\n",
       "      <th>Lat</th>\n",
       "      <th>Lng</th>\n",
       "      <th>Max Temp</th>\n",
       "      <th>Wind Speed</th>\n",
       "    </tr>\n",
       "  </thead>\n",
       "  <tbody>\n",
       "    <tr>\n",
       "      <th>0</th>\n",
       "      <td>69</td>\n",
       "      <td>Arraial do Cabo</td>\n",
       "      <td>0</td>\n",
       "      <td>BR</td>\n",
       "      <td>1580009531</td>\n",
       "      <td>82</td>\n",
       "      <td>-22.97</td>\n",
       "      <td>-42.03</td>\n",
       "      <td>75.16</td>\n",
       "      <td>6.76</td>\n",
       "    </tr>\n",
       "    <tr>\n",
       "      <th>1</th>\n",
       "      <td>145</td>\n",
       "      <td>Farafangana</td>\n",
       "      <td>0</td>\n",
       "      <td>MG</td>\n",
       "      <td>1580009676</td>\n",
       "      <td>56</td>\n",
       "      <td>-22.82</td>\n",
       "      <td>47.83</td>\n",
       "      <td>77.47</td>\n",
       "      <td>6.46</td>\n",
       "    </tr>\n",
       "    <tr>\n",
       "      <th>2</th>\n",
       "      <td>194</td>\n",
       "      <td>San Rafael</td>\n",
       "      <td>0</td>\n",
       "      <td>AR</td>\n",
       "      <td>1580009589</td>\n",
       "      <td>28</td>\n",
       "      <td>-34.62</td>\n",
       "      <td>-68.33</td>\n",
       "      <td>77.09</td>\n",
       "      <td>2.57</td>\n",
       "    </tr>\n",
       "    <tr>\n",
       "      <th>3</th>\n",
       "      <td>235</td>\n",
       "      <td>Rio Cuarto</td>\n",
       "      <td>0</td>\n",
       "      <td>AR</td>\n",
       "      <td>1580009565</td>\n",
       "      <td>57</td>\n",
       "      <td>-33.13</td>\n",
       "      <td>-64.35</td>\n",
       "      <td>75.20</td>\n",
       "      <td>5.82</td>\n",
       "    </tr>\n",
       "    <tr>\n",
       "      <th>4</th>\n",
       "      <td>469</td>\n",
       "      <td>Ilebo</td>\n",
       "      <td>0</td>\n",
       "      <td>CD</td>\n",
       "      <td>1580010073</td>\n",
       "      <td>83</td>\n",
       "      <td>-4.32</td>\n",
       "      <td>20.58</td>\n",
       "      <td>70.81</td>\n",
       "      <td>1.30</td>\n",
       "    </tr>\n",
       "    <tr>\n",
       "      <th>5</th>\n",
       "      <td>499</td>\n",
       "      <td>High Rock</td>\n",
       "      <td>0</td>\n",
       "      <td>BS</td>\n",
       "      <td>1580010110</td>\n",
       "      <td>64</td>\n",
       "      <td>26.62</td>\n",
       "      <td>-78.28</td>\n",
       "      <td>70.25</td>\n",
       "      <td>9.40</td>\n",
       "    </tr>\n",
       "  </tbody>\n",
       "</table>\n",
       "</div>"
      ],
      "text/plain": [
       "   Unnamed: 0             City  Cloudiness Country        Date  Humidity  \\\n",
       "0          69  Arraial do Cabo           0      BR  1580009531        82   \n",
       "1         145      Farafangana           0      MG  1580009676        56   \n",
       "2         194       San Rafael           0      AR  1580009589        28   \n",
       "3         235       Rio Cuarto           0      AR  1580009565        57   \n",
       "4         469            Ilebo           0      CD  1580010073        83   \n",
       "5         499        High Rock           0      BS  1580010110        64   \n",
       "\n",
       "     Lat    Lng  Max Temp  Wind Speed  \n",
       "0 -22.97 -42.03     75.16        6.76  \n",
       "1 -22.82  47.83     77.47        6.46  \n",
       "2 -34.62 -68.33     77.09        2.57  \n",
       "3 -33.13 -64.35     75.20        5.82  \n",
       "4  -4.32  20.58     70.81        1.30  \n",
       "5  26.62 -78.28     70.25        9.40  "
      ]
     },
     "execution_count": 6,
     "metadata": {},
     "output_type": "execute_result"
    }
   ],
   "source": [
    "#Getting Perfect contion cities\n",
    "City_weather_df=City_weather[(City_weather[\"Cloudiness\"]==0)& (City_weather[\"Wind Speed\"]<10) & ((City_weather[\"Max Temp\"]<80) & (City_weather[\"Max Temp\"]>70))]\n",
    "#Dropping nan records\n",
    "City_weather_df.dropna()\n",
    "City_weather_df.reset_index(drop=True)"
   ]
  },
  {
   "cell_type": "markdown",
   "metadata": {},
   "source": [
    "### Hotel Map\n",
    "* Store into variable named `hotel_df`.\n",
    "* Add a \"Hotel Name\" column to the DataFrame.\n",
    "* Set parameters to search for hotels with 5000 meters.\n",
    "* Hit the Google Places API for each city's coordinates.\n",
    "* Store the first Hotel result into the DataFrame.\n",
    "* Plot markers on top of the heatmap."
   ]
  },
  {
   "cell_type": "code",
   "execution_count": null,
   "metadata": {},
   "outputs": [],
   "source": [
    "#Base URL for Google Places\n",
    "base_url = \"https://maps.googleapis.com/maps/api/place/nearbysearch/json\"\n",
    "hotel=[]\n",
    "#looping to get the first hotel of cities\n",
    "for index, row in locations.iterrows():\n",
    "    params = {\n",
    "       \"location\": f\"{row['Lat']},{row['Lng']}\",\n",
    "        \"radius\":\"5000\",\n",
    "       \"type\": \"restaurant\",\n",
    "       \"key\": g_key,\n",
    "   }\n",
    "    response = requests.get(base_url, params=params).json()\n",
    "    #saving them in hotel List\n",
    "    try:\n",
    "        hotel.append((response['results'][0]['name']))\n",
    "    #If no hotel found, save no hotel in the output    \n",
    "    except (KeyError, IndexError):\n",
    "        hotel.append(\"No Hotel\")\n",
    "        "
   ]
  },
  {
   "cell_type": "code",
   "execution_count": null,
   "metadata": {},
   "outputs": [],
   "source": [
    "#Creating Data Frame with hotel Names\n",
    "hotel_df=pd.DataFrame({\"Hotel Name\":hotel})\n",
    "\n",
    "hotel_df[[\"City\",\"Country\",\"Lat\",\"Lng\"]]=City_weather[[\"City\",\"Country\",\"Lat\",\"Lng\"]]\n",
    "hotel_df\n"
   ]
  },
  {
   "cell_type": "code",
   "execution_count": null,
   "metadata": {},
   "outputs": [],
   "source": [
    "narrowed_city_df=hotel_df[hotel_df['City'].isin(City_weather_df['City'])]  \n",
    "narrowed_city_df"
   ]
  },
  {
   "cell_type": "code",
   "execution_count": null,
   "metadata": {},
   "outputs": [],
   "source": [
    "# NOTE: Do not change any of the code in this cell\n",
    "\n",
    "# Using the template add the hotel marks to the heatmap\n",
    "info_box_template = \"\"\"\n",
    "<dl>\n",
    "<dt>Name</dt><dd>{Hotel Name}</dd>\n",
    "<dt>City</dt><dd>{City}</dd>\n",
    "<dt>Country</dt><dd>{Country}</dd>\n",
    "</dl>\n",
    "\"\"\"\n",
    "# Store the DataFrame Row\n",
    "# NOTE: be sure to update with your DataFrame name\n",
    "hotel_info = [info_box_template.format(**row) for index, row in narrowed_city_df.iterrows()]\n",
    "locations = narrowed_city_df[[\"Lat\", \"Lng\"]]"
   ]
  },
  {
   "cell_type": "code",
   "execution_count": null,
   "metadata": {},
   "outputs": [],
   "source": [
    "# Add marker layer ontop of heat map\n",
    "marker_layer = gmaps.marker_layer(locations, info_box_content=hotel_info)\n",
    "fig.add_layer(marker_layer)\n",
    "# Display Map\n",
    "\n",
    "fig"
   ]
  },
  {
   "cell_type": "code",
   "execution_count": null,
   "metadata": {},
   "outputs": [],
   "source": []
  }
 ],
 "metadata": {
  "kernelspec": {
   "display_name": "Python [conda env:PythonData]",
   "language": "python",
   "name": "conda-env-PythonData-py"
  },
  "language_info": {
   "codemirror_mode": {
    "name": "ipython",
    "version": 3
   },
   "file_extension": ".py",
   "mimetype": "text/x-python",
   "name": "python",
   "nbconvert_exporter": "python",
   "pygments_lexer": "ipython3",
   "version": "3.6.9"
  },
  "latex_envs": {
   "LaTeX_envs_menu_present": true,
   "autoclose": false,
   "autocomplete": true,
   "bibliofile": "biblio.bib",
   "cite_by": "apalike",
   "current_citInitial": 1,
   "eqLabelWithNumbers": true,
   "eqNumInitial": 1,
   "hotkeys": {
    "equation": "Ctrl-E",
    "itemize": "Ctrl-I"
   },
   "labels_anchors": false,
   "latex_user_defs": false,
   "report_style_numbering": false,
   "user_envs_cfg": false
  }
 },
 "nbformat": 4,
 "nbformat_minor": 4
}
